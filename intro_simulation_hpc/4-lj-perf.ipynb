{
 "cells": [
  {
   "cell_type": "markdown",
   "metadata": {},
   "source": [
    "The purpose of this notebook is to provide a template for submitting jobs that \n",
    "run through an entire initialization and NPT integration to calculate number density\n",
    "as a function of pressure, and to measure  MSDs and decorrelation times (TODO)"
   ]
  },
  {
   "cell_type": "code",
   "execution_count": 1,
   "metadata": {},
   "outputs": [],
   "source": [
    "import hoomd\n",
    "import gsd.hoomd\n",
    "import itertools\n",
    "import numpy as np\n",
    "\n",
    "def get_density(filename):\n",
    "    with gsd.hoomd.open(filename,'rb') as traj:\n",
    "        N = len(traj[0].particles.position)\n",
    "        step = []\n",
    "        vol = []\n",
    "        for frame in traj:\n",
    "                step.append(frame.configuration.step)\n",
    "                vol.append(frame.log['md/compute/ThermodynamicQuantities/volume'][0])\n",
    "        return np.array(step), np.array(vol)/N "
   ]
  },
  {
   "cell_type": "code",
   "execution_count": 2,
   "metadata": {},
   "outputs": [],
   "source": [
    "#key variables\n",
    "m = 4 #increase for more atoms\n",
    "N_particles = 4 * m**3\n",
    "Temperature = 0.5\n",
    "tau = 0.1\n",
    "Pressure = 3.2\n",
    "tauS = 0.1\n",
    "trajfile = 'npt.gsd'\n",
    "write_period = 1e5 \n",
    "maxtime = 5e6\n",
    "\n",
    "#This is steps 1-3 from before\n",
    "# Attach to CPU and create simulation\n",
    "cpu = hoomd.device.CPU()\n",
    "sim = hoomd.Simulation(device=cpu,seed=0)\n",
    "\n",
    "#let's add some system initialization here:\n",
    "#initial condition setup with snapshots\n",
    "spacing = 1.3\n",
    "K = math.ceil(N_particles**(1 / 3))\n",
    "L = K * spacing\n",
    "x = numpy.linspace(-L / 2, L / 2, K, endpoint=False)\n",
    "position = list(itertools.product(x, repeat=3))\n",
    "\n",
    "snapshot = gsd.hoomd.Snapshot()\n",
    "snapshot.particles.N = N_particles\n",
    "snapshot.particles.position = position[0:N_particles]\n",
    "snapshot.particles.typeid = [0] * N_particles\n",
    "snapshot.configuration.box = [L, L, L, 0, 0, 0]\n",
    "snapshot.particles.types = ['C']\n",
    "sim.create_state_from_snapshot(snapshot) #may need debugging\n",
    "\n",
    "#Potential and integrator setup\n",
    "integrator = hoomd.md.Integrator(dt=0.005)\n",
    "cell = hoomd.md.nlist.Cell(buffer = 0.4)\n",
    "lj_potential = hoomd.md.pair.LJ(nlist=cell)\n",
    "lj_potential.params[('C','C')] = dict(epsilon=1,sigma=1)\n",
    "lj_potential.r_cut[('C','C')]=2.5\n",
    "ensemble = hoomd.md.methods.NPT(kT=Temperature,filter=hoomd.filter.All(),tau=tau, tauS=tauS, S=Pressure, couple = 'xyz') #NEW\n",
    "integrator.forces.append(lj_potential)\n",
    "integrator.methods.append(ensemble)\n",
    "sim.operations.integrator = integrator\n",
    "\n",
    "# Set the simulation state \n",
    "sim.state.thermalize_particle_momenta(filter=hoomd.filter.All(), kT=Temperature)\n"
   ]
  },
  {
   "cell_type": "code",
   "execution_count": 3,
   "metadata": {},
   "outputs": [],
   "source": [
    "# We need to define which atoms participate in logging, what's logged, and where to store that info.\n",
    "selection = hoomd.filter.All() # \"which atoms\"\n",
    "logger = hoomd.logging.Logger() # will be used for \"what's logged\"\n",
    "writer = hoomd.write.GSD(filename=trajfile, # \"where to store\"\n",
    "                             trigger=hoomd.trigger.Periodic(int(write_period)), #when to store\n",
    "                             mode='wb',\n",
    "                             filter=selection) #filter=hoomd.filter.Null() to only store log\n",
    "\n",
    "thermo_props = hoomd.md.compute.ThermodynamicQuantities(filter=selection) # What to store\n",
    "logger.add(thermo_props)\n",
    "logger.add(sim,quantities=['timestep','walltime','tps'])\n",
    "writer.log = logger #need to tell our write which logger to use when it's logging info\n",
    "#TODO: add logging here?\n",
    "sim.operations.computes.append(thermo_props) #tell our simulation to *compute* the thermo properties\n",
    "sim.operations.writers.append(writer) # tell our simulation which writer(s) to use\n"
   ]
  },
  {
   "cell_type": "code",
   "execution_count": 4,
   "metadata": {},
   "outputs": [],
   "source": [
    "# Run  the simulation  (a few seconds)\n",
    "sim.run(maxtime)"
   ]
  },
  {
   "cell_type": "code",
   "execution_count": null,
   "metadata": {},
   "outputs": [],
   "source": [
    "#analyze\n",
    "step, density = get_density(trajfile)\n",
    "print(\"T={}, P={}: {} +/- {}\".format(T, P, density.mean(), density.std()) #pretty-print better"
   ]
  }
 ],
 "metadata": {
  "kernelspec": {
   "display_name": "Python 3",
   "language": "python",
   "name": "python3"
  },
  "language_info": {
   "codemirror_mode": {
    "name": "ipython",
    "version": 3
   },
   "file_extension": ".py",
   "mimetype": "text/x-python",
   "name": "python",
   "nbconvert_exporter": "python",
   "pygments_lexer": "ipython3",
   "version": "3.8.5"
  }
 },
 "nbformat": 4,
 "nbformat_minor": 4
}
