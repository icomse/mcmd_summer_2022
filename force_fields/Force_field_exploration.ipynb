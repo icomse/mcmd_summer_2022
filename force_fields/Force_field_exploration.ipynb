{
 "cells": [
  {
   "cell_type": "markdown",
   "id": "d471963b",
   "metadata": {},
   "source": [
    "### Exploring force fields\n"
   ]
  },
  {
   "cell_type": "code",
   "execution_count": null,
   "id": "5c0d1269",
   "metadata": {},
   "outputs": [],
   "source": [
    "#set the shell\n",
    "%set_env SHELL=/bin/bash"
   ]
  },
  {
   "cell_type": "code",
   "execution_count": null,
   "id": "ed5999eb",
   "metadata": {
    "scrolled": true
   },
   "outputs": [],
   "source": [
    "# look at the initial water structure\n",
    "import mbuild\n",
    "waters = mbuild.load(\"startwater.gro\")\n",
    "waters.visualize()"
   ]
  },
  {
   "cell_type": "code",
   "execution_count": null,
   "id": "cae7561f",
   "metadata": {},
   "outputs": [],
   "source": [
    "%%bash\n",
    "pwd\n",
    "ls "
   ]
  },
  {
   "cell_type": "code",
   "execution_count": null,
   "id": "51cd8a3b",
   "metadata": {},
   "outputs": [],
   "source": [
    "# set up the water simulation\n",
    "!gmx_mpi grompp -p justwater.top -c startwater.gro -f run.mdp -o justwater.tpr -maxwarn 1"
   ]
  },
  {
   "cell_type": "code",
   "execution_count": null,
   "id": "6d76e9d9",
   "metadata": {},
   "outputs": [],
   "source": [
    "# run the water simulation\n",
    "!mpirun gmx_mpi mdrun -s justwater.tpr -e justwater.edr -x justwater.xtc -g justwater.log -c output.gro\n"
   ]
  },
  {
   "cell_type": "code",
   "execution_count": null,
   "id": "4eb4305e",
   "metadata": {},
   "outputs": [],
   "source": [
    "#what files are produced?\n",
    "!ls -l "
   ]
  },
  {
   "cell_type": "code",
   "execution_count": null,
   "id": "132d585e",
   "metadata": {},
   "outputs": [],
   "source": [
    "#what does the final structure look like?\n",
    "import mbuild\n",
    "waters = mbuild.load(\"output.gro\")\n",
    "waters.visualize()"
   ]
  },
  {
   "cell_type": "markdown",
   "id": "bb9924f1",
   "metadata": {},
   "source": [
    "### Exercise\n",
    "\n",
    "* Make a copy of `justwater.top` called `mywater.top`.\n",
    "* Change the charges in `mywater.top`(make sure the sum total per molecule is still 0.0) or the Lennard-Jones terms.  What changes do you see in the outputs?\n",
    "* Change (or remove) the bond lengths or angles?  What changes do you see?\n",
    "* Besides visualizing the output structure with mbuild, look at the property outputs using `gmx_mpi energy -f {myfilename}.edr -o {myfilename}.xvg`. \n",
    "* When you change the parameters, you may need to minimize the simulation first (`min.mdp`), or it will crash!\n",
    "* After minimization, try running an NVT equilibration (setting `pcoupl=no`)  first before using `run.mdp` with pressure coupling. Even with the NVT equilibration, you may need to run with a shorter timestep (`dt`) to get the simulation to equilibrate.  Some model changes will NEVER run! Can you think of a change you can make that will likely fail no matter what you do?\n"
   ]
  },
  {
   "cell_type": "code",
   "execution_count": null,
   "id": "fc7a10de",
   "metadata": {},
   "outputs": [],
   "source": []
  }
 ],
 "metadata": {
  "kernelspec": {
   "display_name": "Python 3 (ipykernel)",
   "language": "python",
   "name": "python3"
  },
  "language_info": {
   "codemirror_mode": {
    "name": "ipython",
    "version": 3
   },
   "file_extension": ".py",
   "mimetype": "text/x-python",
   "name": "python",
   "nbconvert_exporter": "python",
   "pygments_lexer": "ipython3",
   "version": "3.10.5"
  }
 },
 "nbformat": 4,
 "nbformat_minor": 5
}
