{
 "cells": [
  {
   "cell_type": "code",
   "execution_count": null,
   "metadata": {
    "scrolled": false
   },
   "outputs": [],
   "source": [
    "%set_env SHELL=/bin/bash\n"
   ]
  },
  {
   "cell_type": "code",
   "execution_count": null,
   "metadata": {},
   "outputs": [],
   "source": [
    "import mbuild\n",
    "compound = mbuild.load(\"spce216.gro\")\n",
    "compound.visualize()"
   ]
  },
  {
   "cell_type": "markdown",
   "metadata": {
    "scrolled": true
   },
   "source": [
    "Let us begin setting up our simulation files. Our goal is to simulate a box of water molecules, and we want the box to have at least 4000 water molecules as we have ascertained this is a reasonable system size.\n",
    "\n",
    "**Question** How do we decide what is an optimal system size for any of our simulations?"
   ]
  },
  {
   "cell_type": "markdown",
   "metadata": {
    "scrolled": true
   },
   "source": [
    "We will first need to see what files we have, and what files do we need. \n",
    "\n",
    "In gromacs, input files are given in three main types:\n",
    "(1) File that has information about the atom (atomtypes), and molecules in our system, and how they interact with each other -- Topology file (extension used is \\*.top)\n",
    "(2) A file with initial coordinates of all the atoms in our system. This is called the coordinate file and can be input in different formats. Most common are gro and pdb. We will use \\*.gro format.\n",
    "(3) A file with parameters for our MD simulations. We will see this file in detail later. The extension for this file is \\*.mdp.\n",
    "\n",
    "Note that every MD software has its own format and names for the input files. However, in the end, we need to provide these three pieces of information -- what does our system comprise, initial coordinates, and parameters for our MD simulation.\n",
    "\n",
    "It is important to choose and understand each of these input carefully. \n",
    "\n",
    "**Question** Where do we get information about the atomtypes and interactions to give as input in our files? What does this look like? (Hint: Force fields)"
   ]
  },
  {
   "cell_type": "code",
   "execution_count": null,
   "metadata": {},
   "outputs": [],
   "source": [
    "%%bash\n",
    "pwd\n",
    "ls "
   ]
  },
  {
   "cell_type": "markdown",
   "metadata": {},
   "source": [
    "We have a \n",
    "(1) topology file (spce_MASTER.top)\n",
    "(2) two mdp files (em.mdp and mdspce.top)\n",
    "(3) one gro file (spce216.gro)\n",
    "\n",
    "Let's do the easy bit first. In the gro file, you will see we have 216 water molecules. However, we want a simulation box with 4000 water molecules. Therefore, we will run the following commands to generate a box of 4000 molecules. (Remember, these questions are gromacs specific and you will need different commands for different MD software but the general steps will be the same)."
   ]
  },
  {
   "cell_type": "code",
   "execution_count": null,
   "metadata": {},
   "outputs": [],
   "source": [
    "!mpirun gmx_mpi solvate -cs spce216.gro -cp spce216.gro -box 5.0 -o spcesolv.gro"
   ]
  },
  {
   "cell_type": "code",
   "execution_count": null,
   "metadata": {},
   "outputs": [],
   "source": [
    "import mbuild\n",
    "compound = mbuild.load(\"spcesolv.gro\")\n",
    "compound.visualize()"
   ]
  },
  {
   "cell_type": "markdown",
   "metadata": {},
   "source": [
    "That was easy! But let's understand what we did.\n",
    "\n",
    "mpirun gmx_mpi_d solvate -cs spce216.gro -cp spce216.gro -box 5.0 -o spcesolv.gro\n",
    "\n",
    "(1) gmx_mpi_d == invokes gromacs and the exact form of this gmx_(suffix) depends on how gromacs is installed and what is given as the suffix at the time of installation.\n",
    "(2) solvate == is the gromacs command to solvate a solute (given as -cs option) with a solvent (given as -cp option)\n",
    "(3) the command above is saying \"solvate my solute (spce216.gro) with solvent (spce216.gro)\"\n",
    "(4) write the output as spcesolv.gro."
   ]
  },
  {
   "cell_type": "code",
   "execution_count": null,
   "metadata": {},
   "outputs": [],
   "source": [
    "!ls -ltrh"
   ]
  },
  {
   "cell_type": "markdown",
   "metadata": {},
   "source": [
    "Ok, now let's understand our topology file. Remember I had asked a question -- how do we decide on our atomtypes and interactions between them? It comes from force fields. But at a very basic level, we have to have a way of saying to the computer, hey this coordinate you see is an oxygen and this one is a hydrogen, one oxygen atom is bonded to two hydrogen atoms. How do we convey this information?\n",
    "\n",
    "**In gromacs topology file** you first define the atoms in your system, then the molecules, and then the system. So if you open your topology file you will see sections [atoms], [molecules], [system].\n"
   ]
  },
  {
   "cell_type": "markdown",
   "metadata": {},
   "source": [
    "So now that you know what is in the topology file, let's think of what modifications, if any, do we need to make with our steps of creating a new box of water molecules.\n",
    "\n",
    "**Question** What do we need to modify in the topology file to make it compatible with our configuration file?"
   ]
  },
  {
   "cell_type": "code",
   "execution_count": null,
   "metadata": {
    "scrolled": true
   },
   "outputs": [],
   "source": [
    "%%bash\n",
    "fsolv=\"spcesolv.gro\" \n",
    "nsol=`tail -2 $fsolv | head -1 | awk '{print substr($1,1,length($1)-3)}'`\n",
    "sed  \"s/XXXX/$nsol/g\" spce_MASTER.top > spce-updated.top\n",
    "tail -2 spce-updated.top"
   ]
  },
  {
   "cell_type": "markdown",
   "metadata": {},
   "source": [
    "Ok, so now we have a configuration file. We have an updated topology file. We know what goes into it. **What is the next file we should be thinking about?\"** "
   ]
  },
  {
   "cell_type": "markdown",
   "metadata": {},
   "source": [
    "Yes, it's the mdp file. Here we will enter all the parameters necessary to run the simulation. Let's think about this for a moment. **Do you know what is the general algorithm of an MD simulation?**"
   ]
  },
  {
   "cell_type": "markdown",
   "metadata": {},
   "source": [
    "**What is the general approach when starting the simulations**\n",
    "1. You run an energy minimization\n",
    "2. Run an equilibration\n",
    "3. Run a production simulation"
   ]
  },
  {
   "cell_type": "markdown",
   "metadata": {},
   "source": [
    "We will specify minimization algorithm in the mdp file. "
   ]
  },
  {
   "cell_type": "code",
   "execution_count": null,
   "metadata": {},
   "outputs": [],
   "source": [
    "%%bash\n",
    "more em.mdp"
   ]
  },
  {
   "cell_type": "code",
   "execution_count": null,
   "metadata": {
    "scrolled": true
   },
   "outputs": [],
   "source": [
    "!mpirun gmx_mpi grompp -f em.mdp -c spcesolv.gro -p spce-updated.top -o minim.tpr"
   ]
  },
  {
   "cell_type": "code",
   "execution_count": null,
   "metadata": {},
   "outputs": [],
   "source": [
    "!mpirun gmx_mpi mdrun -s minim.tpr -deffnm spceminim -v"
   ]
  },
  {
   "cell_type": "code",
   "execution_count": null,
   "metadata": {},
   "outputs": [],
   "source": [
    "import mbuild\n",
    "compound = mbuild.load(\"spceminim.gro\")\n",
    "compound.visualize()"
   ]
  },
  {
   "cell_type": "code",
   "execution_count": null,
   "metadata": {},
   "outputs": [],
   "source": [
    "%%bash\n",
    "ls -ltrh"
   ]
  },
  {
   "cell_type": "markdown",
   "metadata": {},
   "source": [
    "Now that we understand the input let's spend few minutes going over the mdp file and let me know if you have any questions."
   ]
  },
  {
   "cell_type": "markdown",
   "metadata": {},
   "source": [
    "Now let's compile and run the simulation!"
   ]
  },
  {
   "cell_type": "code",
   "execution_count": null,
   "metadata": {
    "scrolled": true
   },
   "outputs": [],
   "source": [
    "!mpirun gmx_mpi grompp -f runmdshort.mdp -c spceminim.gro -p spce-updated.top -o spcemd.tpr -maxwarn 1"
   ]
  },
  {
   "cell_type": "code",
   "execution_count": null,
   "metadata": {},
   "outputs": [],
   "source": [
    "!mpirun gmx_mpi mdrun -s spcemd.tpr -deffnm spcemdshort -v "
   ]
  }
 ],
 "metadata": {
  "kernelspec": {
   "display_name": "icomse-cpu",
   "language": "python",
   "name": "icomse-cpu"
  },
  "language_info": {
   "codemirror_mode": {
    "name": "ipython",
    "version": 3
   },
   "file_extension": ".py",
   "mimetype": "text/x-python",
   "name": "python",
   "nbconvert_exporter": "python",
   "pygments_lexer": "ipython3",
   "version": "3.10.5"
  }
 },
 "nbformat": 4,
 "nbformat_minor": 4
}
